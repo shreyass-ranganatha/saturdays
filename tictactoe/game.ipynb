{
 "cells": [
  {
   "attachments": {},
   "cell_type": "markdown",
   "metadata": {},
   "source": [
    "# Multiplayer TicTacToe\n",
    "\n",
    "Multiplayer in this context refers to a distant player who joins to play this \n",
    "game from another machine.\n",
    "\n",
    "i.e. Networking + TicTacToe"
   ]
  },
  {
   "cell_type": "code",
   "execution_count": 3,
   "metadata": {},
   "outputs": [],
   "source": [
    "from tictactoe import TicTacToe, rungame\n",
    "import socket"
   ]
  },
  {
   "attachments": {},
   "cell_type": "markdown",
   "metadata": {},
   "source": [
    "## TicTacToe\n",
    "\n",
    "Let's first setup our game of TicTacToe and try it out locally"
   ]
  },
  {
   "cell_type": "code",
   "execution_count": 2,
   "metadata": {},
   "outputs": [
    {
     "name": "stdout",
     "output_type": "stream",
     "text": [
      "Legend:\n",
      "1|2|3\n",
      "4|5|6\n",
      "7|8|9\n",
      "\n",
      " | | \n",
      " | | \n",
      " | | \n"
     ]
    }
   ],
   "source": [
    "rungame()"
   ]
  },
  {
   "attachments": {},
   "cell_type": "markdown",
   "metadata": {},
   "source": [
    "## Building the Network\n"
   ]
  },
  {
   "cell_type": "code",
   "execution_count": 4,
   "metadata": {},
   "outputs": [
    {
     "name": "stdout",
     "output_type": "stream",
     "text": [
      "CLIENTs CONNECT TO: 0.0.0.0\n"
     ]
    }
   ],
   "source": [
    "# SERVER\n",
    "\n",
    "port = 8033\n",
    "\n",
    "game = TicTacToe()\n",
    "\n",
    "sk = socket.socket(socket.AF_INET, socket.SOCK_STREAM)\n",
    "sk.bind(('0.0.0.0', port))\n",
    "\n",
    "with sk:\n",
    "    sk.listen()\n",
    "\n",
    "    c, a = sk.accept()\n",
    "    print(\"opponent at: {}\".format(a))\n",
    "\n",
    "    while game.playing:\n",
    "        m = game.play(int(input(\"You: \")))\n",
    "\n",
    "        if m is None:\n",
    "            m = game.play(int(c.recv(1).decode(\"utf8\")))\n",
    "\n",
    "        if m is not None:\n",
    "            c.recv(100)\n",
    "\n",
    "            c.sendall(m.encode(\"utf8\"))\n",
    "            print(m)\n",
    "\n",
    "            break\n",
    "\n",
    "        else:\n",
    "            c.sendall(b\"\");\n"
   ]
  },
  {
   "cell_type": "code",
   "execution_count": null,
   "metadata": {},
   "outputs": [],
   "source": [
    "# CLIENT\n",
    "\n",
    "host = '127.0.0.1'\n",
    "port = 8033\n",
    "\n",
    "sk = socket.socket(socket.AF_INET, socket.SOCK_STREAM)\n",
    "sk.connect((host, port))\n",
    "\n",
    "with sk:\n",
    "    while 1:\n",
    "        c.sendall(input(\"You: \").encode(\"utf8\"))\n",
    "\n",
    "        if (m := c.recv(1024).decode(\"utf8\")):\n",
    "            print(m)\n",
    "            break\n"
   ]
  },
  {
   "attachments": {},
   "cell_type": "markdown",
   "metadata": {},
   "source": [
    "## References\n",
    "\n",
    "* https://realpython.com/python-sockets/\n"
   ]
  }
 ],
 "metadata": {
  "kernelspec": {
   "display_name": "Python 3",
   "language": "python",
   "name": "python3"
  },
  "language_info": {
   "codemirror_mode": {
    "name": "ipython",
    "version": 3
   },
   "file_extension": ".py",
   "mimetype": "text/x-python",
   "name": "python",
   "nbconvert_exporter": "python",
   "pygments_lexer": "ipython3",
   "version": "3.10.0"
  },
  "orig_nbformat": 4,
  "vscode": {
   "interpreter": {
    "hash": "aee8b7b246df8f9039afb4144a1f6fd8d2ca17a180786b69acc140d282b71a49"
   }
  }
 },
 "nbformat": 4,
 "nbformat_minor": 2
}
